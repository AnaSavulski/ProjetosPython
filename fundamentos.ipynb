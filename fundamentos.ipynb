{
  "nbformat": 4,
  "nbformat_minor": 0,
  "metadata": {
    "colab": {
      "provenance": [],
      "toc_visible": true,
      "authorship_tag": "ABX9TyNyVo5m4RWzX7r7cv+tvE04",
      "include_colab_link": true
    },
    "kernelspec": {
      "name": "python3",
      "display_name": "Python 3"
    },
    "language_info": {
      "name": "python"
    }
  },
  "cells": [
    {
      "cell_type": "markdown",
      "metadata": {
        "id": "view-in-github",
        "colab_type": "text"
      },
      "source": [
        "<a href=\"https://colab.research.google.com/github/AnaSavulski/ProjetosPython/blob/main/fundamentos.ipynb\" target=\"_parent\"><img src=\"https://colab.research.google.com/assets/colab-badge.svg\" alt=\"Open In Colab\"/></a>"
      ]
    },
    {
      "cell_type": "markdown",
      "source": [
        "# Comentários"
      ],
      "metadata": {
        "id": "k-Ce-O0FqJ3y"
      }
    },
    {
      "cell_type": "code",
      "execution_count": 3,
      "metadata": {
        "colab": {
          "base_uri": "https://localhost:8080/",
          "height": 54
        },
        "id": "h2xygoplmaFW",
        "outputId": "691ff7f5-b1c7-4426-92bc-a3cd8d5dfb3d"
      },
      "outputs": [
        {
          "output_type": "stream",
          "name": "stdout",
          "text": [
            "Olá, mundo!\n"
          ]
        },
        {
          "output_type": "execute_result",
          "data": {
            "text/plain": [
              "' Comentário de várias linhas'"
            ],
            "application/vnd.google.colaboratory.intrinsic+json": {
              "type": "string"
            }
          },
          "metadata": {},
          "execution_count": 3
        }
      ],
      "source": [
        "#isto é um comentário\n",
        "print(\"Olá, mundo!\")#comentário no final\n",
        "''' Comentário de várias linhas mais aparece na execução'''"
      ]
    },
    {
      "cell_type": "code",
      "source": [
        "print(\"olá novamente...\")\n",
        "print(10)\n",
        "print(20.5)"
      ],
      "metadata": {
        "colab": {
          "base_uri": "https://localhost:8080/"
        },
        "id": "Xs-c2MsOrXJb",
        "outputId": "3bb90456-8623-4422-e2f0-ce3c0109d5e8"
      },
      "execution_count": 5,
      "outputs": [
        {
          "output_type": "stream",
          "name": "stdout",
          "text": [
            "olá novamente...\n",
            "10\n",
            "20.5\n"
          ]
        }
      ]
    },
    {
      "cell_type": "code",
      "source": [
        "print(\"maçã\", 20, 30.50)"
      ],
      "metadata": {
        "colab": {
          "base_uri": "https://localhost:8080/"
        },
        "id": "OARUHYVRrj9y",
        "outputId": "098d5113-f8bc-4323-de36-402359d32aec"
      },
      "execution_count": 6,
      "outputs": [
        {
          "output_type": "stream",
          "name": "stdout",
          "text": [
            "maçã 20 30.5\n"
          ]
        }
      ]
    },
    {
      "cell_type": "code",
      "source": [
        "print(\"maçã\", \"Pera\",\"Uva\", sep=' - ')"
      ],
      "metadata": {
        "colab": {
          "base_uri": "https://localhost:8080/"
        },
        "id": "32GW5ItFr2Jd",
        "outputId": "b166a93c-facd-4bfb-a13d-a924612b5c5e"
      },
      "execution_count": 7,
      "outputs": [
        {
          "output_type": "stream",
          "name": "stdout",
          "text": [
            "maçã - Pera - Uva\n"
          ]
        }
      ]
    },
    {
      "cell_type": "code",
      "source": [
        "print(\"maçã\", \"Pera\",\"Uva\", end=' Fim ', sep=' - ')"
      ],
      "metadata": {
        "colab": {
          "base_uri": "https://localhost:8080/"
        },
        "id": "0qrp4eOzsE1y",
        "outputId": "b52fe14b-8ac7-45fd-e7ae-8145973c9bc8"
      },
      "execution_count": 12,
      "outputs": [
        {
          "output_type": "stream",
          "name": "stdout",
          "text": [
            "maçã - Pera - Uva Fim "
          ]
        }
      ]
    },
    {
      "cell_type": "code",
      "source": [
        "print(\"Eu estou escrevendo um texto longo,\\n para testar a quebra de linha.\")"
      ],
      "metadata": {
        "colab": {
          "base_uri": "https://localhost:8080/"
        },
        "id": "B-qNc0jJshWd",
        "outputId": "52c24ecd-8727-4be5-d961-df30d4b9f375"
      },
      "execution_count": 11,
      "outputs": [
        {
          "output_type": "stream",
          "name": "stdout",
          "text": [
            "Eu estou escrevendo um texto longo,\n",
            " para testar a quebra de linha.\n"
          ]
        }
      ]
    },
    {
      "cell_type": "code",
      "source": [
        "print(\"A pontuação total de %s foi %s pontos\" % (\"Fernando\", \"10\"))"
      ],
      "metadata": {
        "colab": {
          "base_uri": "https://localhost:8080/"
        },
        "id": "VRS32wJEtDkw",
        "outputId": "049e28bb-8eff-4d85-9ced-43237d6b29b7"
      },
      "execution_count": 15,
      "outputs": [
        {
          "output_type": "stream",
          "name": "stdout",
          "text": [
            "A pontuação total de Fernando foi 10 pontos\n"
          ]
        }
      ]
    },
    {
      "cell_type": "code",
      "source": [
        "print(\"A pontuação total de {} foi {} pontos.\".format(\"Fernando\", \"10\"))"
      ],
      "metadata": {
        "colab": {
          "base_uri": "https://localhost:8080/"
        },
        "id": "9np5enzutvNE",
        "outputId": "27000421-575d-428c-e060-84a7a8916b25"
      },
      "execution_count": 16,
      "outputs": [
        {
          "output_type": "stream",
          "name": "stdout",
          "text": [
            "A pontuação total de Fernando foi 10 pontos.\n"
          ]
        }
      ]
    },
    {
      "cell_type": "code",
      "source": [
        "print(\"A pontuação de\" + \" Fernando\" + \" foi\" + \" 10\" +\" pontos.\")"
      ],
      "metadata": {
        "colab": {
          "base_uri": "https://localhost:8080/"
        },
        "id": "qQWU7gXuuToB",
        "outputId": "72fd7a2c-c4c7-4b44-b07b-2d5555d33384"
      },
      "execution_count": 17,
      "outputs": [
        {
          "output_type": "stream",
          "name": "stdout",
          "text": [
            "A pontuação de Fernando foi 10 pontos.\n"
          ]
        }
      ]
    },
    {
      "cell_type": "markdown",
      "source": [
        "## Atividades do método print"
      ],
      "metadata": {
        "id": "tW1PhA9ru0eK"
      }
    },
    {
      "cell_type": "code",
      "source": [
        "print(\"Ana Lúcia Savulski\")\n",
        "print(\"Tenho 40 anos\")\n",
        "print(\"E tenho 1,70 metros\")"
      ],
      "metadata": {
        "colab": {
          "base_uri": "https://localhost:8080/"
        },
        "id": "ff2J7nBowI1M",
        "outputId": "4be7c739-8080-4da8-c2f4-94cb2ad7d35d"
      },
      "execution_count": 21,
      "outputs": [
        {
          "output_type": "stream",
          "name": "stdout",
          "text": [
            "Ana Lúcia Savulski\n",
            "Tenho 40 anos\n",
            "E tenho 1,70 metros\n"
          ]
        }
      ]
    },
    {
      "cell_type": "code",
      "source": [
        "print(\"Olá, eu sou {}, tenho {} anos e {} de altura.\".format(\"Ana Lúcia Savulski\",\"40\",\"1,70\"))"
      ],
      "metadata": {
        "colab": {
          "base_uri": "https://localhost:8080/"
        },
        "id": "uxmQY5Qfw6ow",
        "outputId": "b602f44d-0e8a-4d3d-a4c5-3587c259cd73"
      },
      "execution_count": 24,
      "outputs": [
        {
          "output_type": "stream",
          "name": "stdout",
          "text": [
            "Olá, eu sou Ana Lúcia Savulski, tenho 40 anos e 1,70 de altura.\n"
          ]
        }
      ]
    },
    {
      "cell_type": "code",
      "source": [
        "print(\"25 \",\" 02\",\"2025\",sep=\" - \")"
      ],
      "metadata": {
        "colab": {
          "base_uri": "https://localhost:8080/"
        },
        "id": "cr71YG5xxSFe",
        "outputId": "79461557-e9cb-4036-a824-3a777c349494"
      },
      "execution_count": 23,
      "outputs": [
        {
          "output_type": "stream",
          "name": "stdout",
          "text": [
            "25  -  02 - 2025\n"
          ]
        }
      ]
    },
    {
      "cell_type": "markdown",
      "source": [
        "# Variáveis"
      ],
      "metadata": {
        "id": "o7dO7cym2fSj"
      }
    },
    {
      "cell_type": "code",
      "source": [
        "_numero =1\n",
        "Numero = 2\n",
        "numero = 3\n",
        "numero123 = 4\n",
        "print(_numero, Numero, numero, numero123)"
      ],
      "metadata": {
        "colab": {
          "base_uri": "https://localhost:8080/"
        },
        "id": "cDUCQLsH2uGq",
        "outputId": "754db4a4-028e-47c5-f2e5-1021032b127f"
      },
      "execution_count": 25,
      "outputs": [
        {
          "output_type": "stream",
          "name": "stdout",
          "text": [
            "1 2 3 4\n"
          ]
        }
      ]
    },
    {
      "cell_type": "code",
      "source": [
        "numero = 10\n",
        "print(numero)\n",
        "numero = 20\n",
        "print(numero)"
      ],
      "metadata": {
        "colab": {
          "base_uri": "https://localhost:8080/"
        },
        "id": "nkoaXX5T34Lj",
        "outputId": "7b9082ee-7efd-4260-dff3-62713130afb7"
      },
      "execution_count": 26,
      "outputs": [
        {
          "output_type": "stream",
          "name": "stdout",
          "text": [
            "10\n",
            "20\n"
          ]
        }
      ]
    },
    {
      "cell_type": "code",
      "source": [
        "texto = 'Olá mundo!'\n",
        "print(texto)"
      ],
      "metadata": {
        "colab": {
          "base_uri": "https://localhost:8080/"
        },
        "id": "JdcCLqVt4nFD",
        "outputId": "19cc6a76-bcb0-455e-df70-08b7db39e33f"
      },
      "execution_count": 27,
      "outputs": [
        {
          "output_type": "stream",
          "name": "stdout",
          "text": [
            "Olá mundo!\n"
          ]
        }
      ]
    },
    {
      "cell_type": "markdown",
      "source": [
        "#Tipos primitivos\n"
      ],
      "metadata": {
        "id": "3b7CBkdm4wvp"
      }
    },
    {
      "cell_type": "code",
      "source": [
        "variavel = None\n",
        "print(variavel)"
      ],
      "metadata": {
        "colab": {
          "base_uri": "https://localhost:8080/"
        },
        "id": "VQSsRDbF43d6",
        "outputId": "7e782c26-e475-473c-d0d3-f8e8ca8cf08c"
      },
      "execution_count": 28,
      "outputs": [
        {
          "output_type": "stream",
          "name": "stdout",
          "text": [
            "None\n"
          ]
        }
      ]
    },
    {
      "cell_type": "code",
      "source": [
        "inteiro = 10\n",
        "print(inteiro)"
      ],
      "metadata": {
        "colab": {
          "base_uri": "https://localhost:8080/"
        },
        "id": "TDfoUsxp5DK4",
        "outputId": "a28ce73b-d100-41af-f46f-06298288fdfd"
      },
      "execution_count": 29,
      "outputs": [
        {
          "output_type": "stream",
          "name": "stdout",
          "text": [
            "10\n"
          ]
        }
      ]
    },
    {
      "cell_type": "code",
      "source": [
        "decimal =1.53\n",
        "print(decimal)"
      ],
      "metadata": {
        "colab": {
          "base_uri": "https://localhost:8080/"
        },
        "id": "qgtluDdD5H7I",
        "outputId": "3352ffcf-f2a2-42e8-b2e8-a93e674f3c1e"
      },
      "execution_count": 30,
      "outputs": [
        {
          "output_type": "stream",
          "name": "stdout",
          "text": [
            "1.53\n"
          ]
        }
      ]
    },
    {
      "cell_type": "code",
      "source": [
        "texto = \"olá, eu sou um texto.\"\n",
        "print(\"texto\")"
      ],
      "metadata": {
        "colab": {
          "base_uri": "https://localhost:8080/"
        },
        "id": "38sPSxft5NoT",
        "outputId": "03eaed4f-f1a2-47c6-a925-d7232e02d497"
      },
      "execution_count": 31,
      "outputs": [
        {
          "output_type": "stream",
          "name": "stdout",
          "text": [
            "texto\n"
          ]
        }
      ]
    },
    {
      "cell_type": "code",
      "source": [
        "var = True\n",
        "print(var)\n",
        "var =False\n",
        "print(var)"
      ],
      "metadata": {
        "colab": {
          "base_uri": "https://localhost:8080/"
        },
        "id": "BexzpRZw5XoJ",
        "outputId": "2882322f-62ce-42fa-800d-de1438b24618"
      },
      "execution_count": 32,
      "outputs": [
        {
          "output_type": "stream",
          "name": "stdout",
          "text": [
            "True\n",
            "False\n"
          ]
        }
      ]
    },
    {
      "cell_type": "code",
      "source": [
        "var1 =10\n",
        "var2 = var1\n",
        "print(var2)"
      ],
      "metadata": {
        "colab": {
          "base_uri": "https://localhost:8080/"
        },
        "id": "jiGQrEt25k7Z",
        "outputId": "4efb3f9d-0aa7-4205-aac8-f518af47793f"
      },
      "execution_count": 33,
      "outputs": [
        {
          "output_type": "stream",
          "name": "stdout",
          "text": [
            "10\n"
          ]
        }
      ]
    },
    {
      "cell_type": "code",
      "source": [
        "var = None\n",
        "print(var)\n",
        "var = 1\n",
        "print(var)\n",
        "var = 'texto'\n",
        "print(var)"
      ],
      "metadata": {
        "colab": {
          "base_uri": "https://localhost:8080/"
        },
        "id": "bdLIRe1N55qy",
        "outputId": "1452db3d-a275-428b-b5eb-ffb4752d47ce"
      },
      "execution_count": 34,
      "outputs": [
        {
          "output_type": "stream",
          "name": "stdout",
          "text": [
            "None\n",
            "1\n",
            "texto\n"
          ]
        }
      ]
    },
    {
      "cell_type": "code",
      "source": [
        "saldoBancario = 100\n",
        "SaldoBancario = 100\n",
        "saldo_bancario = 100"
      ],
      "metadata": {
        "id": "O7hZFVvI6oh-"
      },
      "execution_count": 35,
      "outputs": []
    },
    {
      "cell_type": "markdown",
      "source": [
        "## Atividade:"
      ],
      "metadata": {
        "id": "h1Epbhgy7WWx"
      }
    },
    {
      "cell_type": "code",
      "source": [
        "#1- Crie uma variável de cada tipo e ponha algum valor escolhido. Em seguida, prite todos esses valores.\n",
        "texto = \"Eu sou um texto\"\n",
        "inteiro = 220\n",
        "decimal = 1.70\n",
        "var = True\n",
        "print(texto, inteiro, decimal, var, sep=\" - \")"
      ],
      "metadata": {
        "colab": {
          "base_uri": "https://localhost:8080/"
        },
        "id": "26_pakho7Sf8",
        "outputId": "8a6104d3-21d0-42ac-db2c-426634047253"
      },
      "execution_count": 36,
      "outputs": [
        {
          "output_type": "stream",
          "name": "stdout",
          "text": [
            "Eu sou um texto - 220 - 1.7 - True\n"
          ]
        }
      ]
    },
    {
      "cell_type": "code",
      "source": [
        "#2- Crie varáveis para guardar seu nome, CPF e uma que indique se você esta casado, em seguida prite esses valores separadamente, mas não esquça de pritar o que significa.\n",
        "nome = \"Ana Lúcia\"\n",
        "doc = \"327.142.488-88\"\n",
        "var= True\n",
        "print(\"O seu nome é {}, o seu CPF é {}, você é casada? {}\".format(nome, doc, var))"
      ],
      "metadata": {
        "colab": {
          "base_uri": "https://localhost:8080/"
        },
        "id": "hNPkLim-8Mx4",
        "outputId": "e7dae5d5-fc8c-48e5-f0f5-212ee738f8c1"
      },
      "execution_count": 39,
      "outputs": [
        {
          "output_type": "stream",
          "name": "stdout",
          "text": [
            "O seu nome é Ana Lúcia, o seu CPF é 327.142.488-88, você é casada? True\n"
          ]
        }
      ]
    },
    {
      "cell_type": "markdown",
      "source": [
        "#Formatação de texto"
      ],
      "metadata": {
        "id": "LUsQ1qdhBwZt"
      }
    },
    {
      "cell_type": "code",
      "source": [
        "# %s texto\n",
        "# %d inteiro\n",
        "# %f real\n"
      ],
      "metadata": {
        "id": "2TDiRoXZCKYP"
      },
      "execution_count": null,
      "outputs": []
    },
    {
      "cell_type": "code",
      "source": [
        "nome = \"Carolina\"\n",
        "texto_formatado = \"O nome dela é %s\"%(nome)\n",
        "print(texto_formatado)"
      ],
      "metadata": {
        "colab": {
          "base_uri": "https://localhost:8080/"
        },
        "id": "TUqee9nyCe_S",
        "outputId": "0689104c-3cbb-42ab-af17-9c84158efbed"
      },
      "execution_count": 40,
      "outputs": [
        {
          "output_type": "stream",
          "name": "stdout",
          "text": [
            "O nome dela é Carolina\n"
          ]
        }
      ]
    },
    {
      "cell_type": "code",
      "source": [
        "nome = \"Rodrigo\"\n",
        "idade = 23\n",
        "altura = 1.73\n",
        "texto = \"Meu nome é %s, tenho %d anos de idade e tenho %.2f metros de altura.\" %(nome, idade, altura)\n",
        "print(texto)"
      ],
      "metadata": {
        "colab": {
          "base_uri": "https://localhost:8080/"
        },
        "id": "qw_o9Pa4DmVz",
        "outputId": "c2a00edf-db22-490f-e091-4031437aa979"
      },
      "execution_count": 45,
      "outputs": [
        {
          "output_type": "stream",
          "name": "stdout",
          "text": [
            "Meu nome é Rodrigo, tenho 23 anos de idade e tenho 1.73 metros de altura.\n"
          ]
        }
      ]
    },
    {
      "cell_type": "code",
      "source": [
        "valor =False\n",
        "print(\"O valor é %s\"%(valor))\n",
        "print(\"O valor é %d\"%(valor))"
      ],
      "metadata": {
        "colab": {
          "base_uri": "https://localhost:8080/"
        },
        "id": "N5KMLCztFH_x",
        "outputId": "b246f6d5-7c85-424e-ddc9-583d0cfd1cd0"
      },
      "execution_count": 46,
      "outputs": [
        {
          "output_type": "stream",
          "name": "stdout",
          "text": [
            "O valor é False\n",
            "O valor é 0\n"
          ]
        }
      ]
    },
    {
      "cell_type": "code",
      "source": [
        "decimal = 23.4577\n",
        "print(\"A parte interia é %d\"%(decimal))"
      ],
      "metadata": {
        "colab": {
          "base_uri": "https://localhost:8080/"
        },
        "id": "8ExTRK7JFqGi",
        "outputId": "c07be3dc-349c-4278-fd48-944b264242d3"
      },
      "execution_count": 47,
      "outputs": [
        {
          "output_type": "stream",
          "name": "stdout",
          "text": [
            "A parte interia é 23\n"
          ]
        }
      ]
    },
    {
      "cell_type": "code",
      "source": [
        "texto = \"Olá, estou escrevendo para usar uma quebra de texto, \\n etendeu? E assim eu faço \\n\\tindentações.\"\n",
        "print(texto)"
      ],
      "metadata": {
        "colab": {
          "base_uri": "https://localhost:8080/"
        },
        "id": "d1C6nMKCGg0u",
        "outputId": "9450aa68-46fa-487a-9b34-2cb39e9574a7"
      },
      "execution_count": 49,
      "outputs": [
        {
          "output_type": "stream",
          "name": "stdout",
          "text": [
            "Olá, estou escrevendo para usar uma quebra de texto, \n",
            " etendeu? E assim eu faço \n",
            "\tindentações.\n"
          ]
        }
      ]
    },
    {
      "cell_type": "code",
      "source": [
        "texto = \"Para deixar \\'aspas\\' nas palavras.\"\n",
        "print(texto)"
      ],
      "metadata": {
        "colab": {
          "base_uri": "https://localhost:8080/"
        },
        "id": "p021WMB-HMhS",
        "outputId": "23ccab9e-5d6a-44e9-fe91-1718a3585d4a"
      },
      "execution_count": 51,
      "outputs": [
        {
          "output_type": "stream",
          "name": "stdout",
          "text": [
            "Para deixar 'aspas' nas palavras.\n"
          ]
        }
      ]
    },
    {
      "cell_type": "markdown",
      "source": [
        "## Atividades"
      ],
      "metadata": {
        "id": "0LI7kFBHHzYO"
      }
    },
    {
      "cell_type": "code",
      "source": [
        "#1- Escreva e formate a data em que você nasceu no formato dia/mês/ano.\n",
        "dia, mes, ano = \"05\", \"07\",\"1984\"\n",
        "\n",
        "print(\"Nascimento: %s/%s/%s\" % (dia,mes,ano))"
      ],
      "metadata": {
        "colab": {
          "base_uri": "https://localhost:8080/"
        },
        "id": "Bgzc9qQhH4Og",
        "outputId": "4092a612-74ca-47f1-9166-019ebaf3c773"
      },
      "execution_count": 59,
      "outputs": [
        {
          "output_type": "stream",
          "name": "stdout",
          "text": [
            "Nascimento: 05/07/1984\n"
          ]
        }
      ]
    },
    {
      "cell_type": "code",
      "source": [
        "#2- Escreva e formate a hora e minuto atual. Não esqueça de criar duas variáveis para guardar hora e minuto.\n",
        "hora = 19\n",
        "minutos = 11\n",
        "print(\"Agora são exatamente %d:%d da noite.\"%(hora, minutos))"
      ],
      "metadata": {
        "colab": {
          "base_uri": "https://localhost:8080/"
        },
        "id": "C6hJVfWoIOdf",
        "outputId": "0bcb46a6-ee86-4ce5-f8c1-c31fc5efd971"
      },
      "execution_count": 57,
      "outputs": [
        {
          "output_type": "stream",
          "name": "stdout",
          "text": [
            "Agora são exatamente 19:11 da noite.\n"
          ]
        }
      ]
    },
    {
      "cell_type": "code",
      "source": [
        "#3- Escreva um programa que contêm o número PI, que deve ter o valor exato de 3.14159265359. Agora formate esse número para ter apenas cinco casas decimais.\n",
        "numero = 3.14159265359\n",
        "print(\"O número PI formatado é %.5f\" %(numero))"
      ],
      "metadata": {
        "colab": {
          "base_uri": "https://localhost:8080/"
        },
        "id": "c2Ne4icTIjQY",
        "outputId": "ba5ebfe7-0f57-48ea-86c9-c24076d514c0"
      },
      "execution_count": 60,
      "outputs": [
        {
          "output_type": "stream",
          "name": "stdout",
          "text": [
            "O número PI formatado é 3.14159\n"
          ]
        }
      ]
    },
    {
      "cell_type": "markdown",
      "source": [
        "#Operadores aritiméticos"
      ],
      "metadata": {
        "id": "rSlZkP2QPJnz"
      }
    },
    {
      "cell_type": "code",
      "source": [
        "soma = 10 + 10.5\n",
        "print(soma)\n",
        "numero = 30 + soma\n",
        "print(numero)\n"
      ],
      "metadata": {
        "colab": {
          "base_uri": "https://localhost:8080/"
        },
        "id": "imHJmZMGPTyS",
        "outputId": "6a42cb00-b8f3-41d5-d45c-cd53c9886876"
      },
      "execution_count": 70,
      "outputs": [
        {
          "output_type": "stream",
          "name": "stdout",
          "text": [
            "20.5\n",
            "50.5\n"
          ]
        }
      ]
    },
    {
      "cell_type": "code",
      "source": [
        "subtracao= 20 -10\n",
        "print( subtracao)"
      ],
      "metadata": {
        "colab": {
          "base_uri": "https://localhost:8080/"
        },
        "id": "_1d3ypu2QVf_",
        "outputId": "af128c53-1f15-4eb9-e935-40667c49781c"
      },
      "execution_count": 71,
      "outputs": [
        {
          "output_type": "stream",
          "name": "stdout",
          "text": [
            "10\n"
          ]
        }
      ]
    },
    {
      "cell_type": "code",
      "source": [
        "multiplicacao = 10 *2\n",
        "print(multiplicacao)"
      ],
      "metadata": {
        "colab": {
          "base_uri": "https://localhost:8080/"
        },
        "id": "y6650um2Qih0",
        "outputId": "a4c7e16a-ca02-49ed-e6d2-dbad1c4129f1"
      },
      "execution_count": 72,
      "outputs": [
        {
          "output_type": "stream",
          "name": "stdout",
          "text": [
            "20\n"
          ]
        }
      ]
    },
    {
      "cell_type": "code",
      "source": [
        "divisao= 10 /3\n",
        "print(divisao)"
      ],
      "metadata": {
        "colab": {
          "base_uri": "https://localhost:8080/"
        },
        "id": "V3cQx9vzQrtq",
        "outputId": "80c8eac6-8238-4a7e-8ae4-d48ff1861fff"
      },
      "execution_count": 74,
      "outputs": [
        {
          "output_type": "stream",
          "name": "stdout",
          "text": [
            "3.3333333333333335\n"
          ]
        }
      ]
    },
    {
      "cell_type": "code",
      "source": [
        "divisaoInt = 10 //3\n",
        "print(divisaoInt)"
      ],
      "metadata": {
        "colab": {
          "base_uri": "https://localhost:8080/"
        },
        "id": "OVeLFIMTRJQK",
        "outputId": "9462d5bd-2296-47eb-ec91-077997fb3114"
      },
      "execution_count": 75,
      "outputs": [
        {
          "output_type": "stream",
          "name": "stdout",
          "text": [
            "3\n"
          ]
        }
      ]
    },
    {
      "cell_type": "code",
      "source": [
        "expoente = 2 ** 4\n",
        "print(expoente)"
      ],
      "metadata": {
        "colab": {
          "base_uri": "https://localhost:8080/"
        },
        "id": "4xF4BbOcRQVT",
        "outputId": "53b2613b-4a83-495f-de27-ff24b2f255ea"
      },
      "execution_count": 76,
      "outputs": [
        {
          "output_type": "stream",
          "name": "stdout",
          "text": [
            "16\n"
          ]
        }
      ]
    },
    {
      "cell_type": "code",
      "source": [
        "restoModulo = 4 % 3\n",
        "print(restoModulo)"
      ],
      "metadata": {
        "colab": {
          "base_uri": "https://localhost:8080/"
        },
        "id": "7OoHKW91TRv3",
        "outputId": "c7a3db40-0d6b-4855-887f-3494914801d6"
      },
      "execution_count": 77,
      "outputs": [
        {
          "output_type": "stream",
          "name": "stdout",
          "text": [
            "1\n"
          ]
        }
      ]
    },
    {
      "cell_type": "markdown",
      "source": [],
      "metadata": {
        "id": "jx0EBhf7Tu4y"
      }
    },
    {
      "cell_type": "markdown",
      "source": [
        "#Ordem de prioridade dos operadores Aritméticos"
      ],
      "metadata": {
        "id": "1alIo-bhTkvU"
      }
    },
    {
      "cell_type": "code",
      "source": [
        "# () Parênteses\n",
        "# ** Exponenciação\n",
        "# +x, -x, ~x Operadores unários (positivo, negativo, bitwise NOT)\n",
        "# *, /, //, % Multiplicação, Divisão, Divisão Inteira, Módulo\n",
        "# +, - Adição, Subtração\n",
        "\n",
        "\n",
        "x = 3\n",
        "\n",
        "positivo = +x  # Isso será 3\n",
        "negativo = -x  # Isso será -3\n",
        "\n",
        "y = 2\n",
        "bitwise_not = ~y  # Isso será -3, pois ~2 é igual a -(2 + 1)\n"
      ],
      "metadata": {
        "id": "ntd7pVT4TwwK"
      },
      "execution_count": null,
      "outputs": []
    },
    {
      "cell_type": "markdown",
      "source": [
        "## Atividades"
      ],
      "metadata": {
        "id": "eYH6ps-wXDx_"
      }
    },
    {
      "cell_type": "code",
      "source": [
        "#1- Crie um programa que possui duas variáveis, uma recebe o ano em que estamos e a outra o ano em que você nasceu.\n",
        "#Em seguida subtraia ambas para receber uma estimativa de quantos anos você tem. Mostre esse valor na saída do programa.\n"
      ],
      "metadata": {
        "id": "GkxyIqudW_QX"
      },
      "execution_count": null,
      "outputs": []
    },
    {
      "cell_type": "code",
      "source": [
        "#2- Crie um programa que faz a média aritmética entre três números. Esses númerpos devem ser salvos em uma variável.\n",
        "# Mostre esse valor na saída do programa."
      ],
      "metadata": {
        "id": "u5PJqkVjXzYG"
      },
      "execution_count": null,
      "outputs": []
    },
    {
      "cell_type": "code",
      "source": [
        "#3- Crie um programa que calcule o IMC (índice de massa corporal).\n",
        "# OIMC é dado pelo KG dividido pela altura em metros elevado ao quadrado.\n",
        "# Salvar esses valores em variável. Mostre esse valor na saída do programa."
      ],
      "metadata": {
        "id": "S5XeW0abYQsm"
      },
      "execution_count": null,
      "outputs": []
    },
    {
      "cell_type": "code",
      "source": [
        "#4- Você tem um determinado número de ovos de Páscoa para dividir entre determinado número de pessoas (duas variáveis iniciais).\n",
        "# Determine quantos ovosficarão por pessoa e quantos ovos sobrarão pois não puderam ser dividido igualmente.\n",
        "# Lembre o número de ovos por pessoa é um número inteiro."
      ],
      "metadata": {
        "id": "Wb6PD1HCY0Z_"
      },
      "execution_count": null,
      "outputs": []
    }
  ]
}